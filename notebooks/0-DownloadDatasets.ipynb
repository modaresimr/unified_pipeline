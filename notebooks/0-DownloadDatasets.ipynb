{
 "cells": [
  {
   "cell_type": "markdown",
   "metadata": {},
   "source": [
    "# Download Datasets\n",
    "You need the datasets to be able to use this repository\n",
    "\n",
    "This file contain guides to download the following datasets:\n",
    "\n",
    "- CASAS Home1 for AR\n",
    "- CASAS Home2 for AR\n",
    "- CASAS Aruba for AR\n",
    "- Orange4Home for AR\n",
    "- ISIC2018 for MIS\n",
    "- SEGPC2021 for MIS\n",
    "- DCASE2021 for SED"
   ]
  },
  {
   "cell_type": "code",
   "execution_count": null,
   "metadata": {},
   "outputs": [],
   "source": []
  },
  {
   "cell_type": "markdown",
   "metadata": {},
   "source": [
    "# Activity Recognition (AR)"
   ]
  },
  {
   "cell_type": "markdown",
   "metadata": {},
   "source": [
    "## CASAS based Datasets\n"
   ]
  },
  {
   "cell_type": "markdown",
   "metadata": {},
   "source": [
    "### Aruba"
   ]
  },
  {
   "cell_type": "code",
   "execution_count": null,
   "metadata": {},
   "outputs": [],
   "source": [
    "!mkdir -p ../datasets/casas/aruba/\n",
    "\n",
    "!wget -O ../datasets/casas/aruba/home-setting.jpg https://raw.githubusercontent.com/modaresimr/UnifiedAR/master/datasetfiles/CASAS/Aruba/aruba.jpg\n",
    "\n",
    "!wget -O ../datasets/casas/aruba/README.md https://raw.githubusercontent.com/modaresimr/UnifiedAR/master/datasetfiles/CASAS/Aruba/README\n",
    "\n",
    "!wget -O ../datasets/casas/aruba/data.txt https://raw.githubusercontent.com/modaresimr/UnifiedAR/master/datasetfiles/CASAS/Aruba/data.txt\n"
   ]
  },
  {
   "cell_type": "markdown",
   "metadata": {},
   "source": [
    "### Home1"
   ]
  },
  {
   "cell_type": "code",
   "execution_count": null,
   "metadata": {},
   "outputs": [],
   "source": [
    "!mkdir -p ../datasets/casas/home1/\n",
    "\n",
    "!wget -O ../datasets/casas/home1/home-setting.jpg https://raw.githubusercontent.com/modaresimr/UnifiedAR/master/datasetfiles/CASAS/Home1/home1.png\n",
    "\n",
    "!wget -O ../datasets/casas/home1/README.md https://raw.githubusercontent.com/modaresimr/UnifiedAR/master/datasetfiles/CASAS/Home1/README\n",
    "\n",
    "!wget -O ../datasets/casas/home1/data.txt https://raw.githubusercontent.com/modaresimr/UnifiedAR/master/datasetfiles/CASAS/Home1/data.txt\n"
   ]
  },
  {
   "cell_type": "markdown",
   "metadata": {},
   "source": [
    "### Home2"
   ]
  },
  {
   "cell_type": "code",
   "execution_count": null,
   "metadata": {},
   "outputs": [],
   "source": [
    "!mkdir -p ../datasets/casas/home2/\n",
    "\n",
    "!wget -O ../datasets/casas/home2/home-setting.jpg https://raw.githubusercontent.com/modaresimr/UnifiedAR/master/datasetfiles/CASAS/Home2/home2.png\n",
    "\n",
    "!wget -O ../datasets/casas/home2/README.md https://raw.githubusercontent.com/modaresimr/UnifiedAR/master/datasetfiles/CASAS/Home2/README\n",
    "\n",
    "!wget -O ../datasets/casas/home2/data.txt https://raw.githubusercontent.com/modaresimr/UnifiedAR/master/datasetfiles/CASAS/Home2/data.txt\n"
   ]
  },
  {
   "cell_type": "markdown",
   "metadata": {},
   "source": [
    "### KaryoAdlNormal"
   ]
  },
  {
   "cell_type": "code",
   "execution_count": null,
   "metadata": {},
   "outputs": [],
   "source": [
    "!mkdir -p ../datasets/casas/karyo_adl_normal/\n",
    "\n",
    "!wget -O ../datasets/casas/karyo_adl_normal/home-setting.jpg https://raw.githubusercontent.com/modaresimr/UnifiedAR/master/datasetfiles/CASAS/KaryoAdlNormal/Chinook_3_Bedroom_TH.png\n",
    "\n",
    "!wget -O ../datasets/casas/karyo_adl_normal/README.md https://raw.githubusercontent.com/modaresimr/UnifiedAR/master/datasetfiles/CASAS/KaryoAdlNormal/README\n",
    "\n",
    "!wget -O ../datasets/casas/karyo_adl_normal/data.txt https://raw.githubusercontent.com/modaresimr/UnifiedAR/master/datasetfiles/CASAS/KaryoAdlNormal/data.txt\n"
   ]
  },
  {
   "cell_type": "markdown",
   "metadata": {},
   "source": [
    "## Orange 4 Home"
   ]
  },
  {
   "cell_type": "code",
   "execution_count": null,
   "metadata": {},
   "outputs": [],
   "source": [
    "folder='../datasets/orange4home/'\n",
    "!mkdir -p {folder}\n",
    "\n",
    "!wget -O {folder}/home-setting.jpg https://raw.githubusercontent.com/modaresimr/UnifiedAR/master/datasetfiles/CASAS/KaryoAdlNormal/Chinook_3_Bedroom_TH.png\n",
    "\n",
    "!wget -O {folder}/README.md https://raw.githubusercontent.com/modaresimr/UnifiedAR/master/datasetfiles/CASAS/KaryoAdlNormal/README\n",
    "\n",
    "!wget -O {folder}/sensor_events.csv https://github.com/modaresimr/UnifiedAR/raw/master/datasetfiles/A4H/sensor_events.csv\n",
    "!wget -O {folder}/sensor_description.csv https://github.com/modaresimr/UnifiedAR/raw/master/datasetfiles/A4H/sensor_description.csv\n",
    "!wget -O {folder}/activities.csv https://github.com/modaresimr/UnifiedAR/raw/master/datasetfiles/A4H/activities.csv\n"
   ]
  },
  {
   "cell_type": "markdown",
   "metadata": {},
   "source": [
    "## VanKasteren"
   ]
  },
  {
   "cell_type": "code",
   "execution_count": null,
   "metadata": {},
   "outputs": [],
   "source": [
    "for name in ['A','B','C']:\n",
    "\tfolder = f'../datasets/van_kasteren/{name}/'\n",
    "\t!mkdir -p {folder}\n",
    "\n",
    "\t!wget -O {folder}/home-setting.jpg https://raw.githubusercontent.com/modaresimr/UnifiedAR/master/datasetfiles/VanKasteren/{name}/setting.png\n",
    "\n",
    "\t!wget -O {folder}/README.md https://raw.githubusercontent.com/modaresimr/UnifiedAR/master/datasetfiles/VanKasteren/{name}/README\n",
    "\n",
    "\t!wget -O {folder}/data.txt https://raw.githubusercontent.com/modaresimr/UnifiedAR/master/datasetfiles/VanKasteren/{name}/data.txt\n"
   ]
  },
  {
   "cell_type": "markdown",
   "metadata": {},
   "source": [
    "# Sound Event Detection (SED)"
   ]
  },
  {
   "cell_type": "markdown",
   "metadata": {},
   "source": [
    "# Medical Image Segmentation (MIS)"
   ]
  },
  {
   "cell_type": "markdown",
   "metadata": {},
   "source": [
    "# ISIC2018\n"
   ]
  },
  {
   "cell_type": "code",
   "execution_count": 9,
   "metadata": {},
   "outputs": [
    {
     "name": "stdout",
     "output_type": "stream",
     "text": [
      "--2023-08-24 12:58:30--  https://isic-challenge-data.s3.amazonaws.com/2018/ISIC2018_Task1-2_Training_Input.zip\n",
      "Resolving isic-challenge-data.s3.amazonaws.com (isic-challenge-data.s3.amazonaws.com)... 52.216.82.184, 52.216.18.248, 3.5.28.140, ...\n",
      "Connecting to isic-challenge-data.s3.amazonaws.com (isic-challenge-data.s3.amazonaws.com)|52.216.82.184|:443... connected.\n",
      "HTTP request sent, awaiting response... 200 OK\n",
      "Length: 11165358566 (10G) [application/zip]\n",
      "Saving to: ‘../datasets/ISIC2018//ISIC2018_Task1-2_Training_Input.zip’\n",
      "\n",
      "2018_Task1-2_Traini  68%[============>       ]   7,11G  1,07MB/s    eta 60m 50s"
     ]
    }
   ],
   "source": [
    "folder = f'../datasets/ISIC2018'\n",
    "!mkdir -p {folder}\n",
    "!wget -O {folder}/ISIC2018_Task1-2_Training_Input.zip -c https://isic-challenge-data.s3.amazonaws.com/2018/ISIC2018_Task1-2_Training_Input.zip\n",
    "!wget -O {folder}/ISIC2018_Task1_Training_GroundTruth.zip -c https://isic-challenge-data.s3.amazonaws.com/2018/ISIC2018_Task1_Training_GroundTruth.zip\n",
    "!unzip {folder}/ISIC2018_Task1-2_Training_Input.zip -d {folder}\n",
    "!unzip {folder}/ISIC2018_Task1_Training_GroundTruth.zip -d {folder}\n",
    "!rm {folder}/ISIC2018_Task1-2_Training_Input.zip {folder}/ISIC2018_Task1_Training_GroundTruth.zip"
   ]
  },
  {
   "cell_type": "markdown",
   "metadata": {},
   "source": [
    "## SegPC2021\n",
    "For this dataset you need API key from Kaggle. For more info visit https://christianjmills.com/posts/kaggle-obtain-api-key-tutorial/#generate-your-kaggle-api-key"
   ]
  },
  {
   "cell_type": "code",
   "execution_count": null,
   "metadata": {},
   "outputs": [],
   "source": [
    "\n",
    "import ipywidgets\n",
    "KaggleUsernameTxt=ipywidgets.Text(placeholder='Kaggle Username')\n",
    "KaggleAPIKeyTxt=ipywidgets.Text(placeholder='Enter Kaggle API key')\n",
    "display(KaggleUsernameTxt)\n",
    "display(KaggleAPIKeyTxt)"
   ]
  },
  {
   "cell_type": "code",
   "execution_count": null,
   "metadata": {},
   "outputs": [],
   "source": [
    "KaggleUsername=KaggleUsernameTxt.value \n",
    "KaggleAPIKey=KaggleAPIKeyTxt.value\n",
    "\n",
    "\n",
    "\n",
    "%pip install kaggle\n",
    "! mkdir ~/.kaggle\n",
    "! echo '{\"username\":\"$username\",\"key\":\"$key\"}' > ~/.kaggle/kaggle.json\n",
    "! chmod 600 ~/.kaggle/kaggle.json\n",
    "folder='../datasets/SegPC2021'\n",
    "!mkdir -p {folder}\n",
    "! cd {folder}\n",
    "! kaggle datasets download --unzip -p {folder} andromedablack/segpc-2021\n"
   ]
  }
 ],
 "metadata": {
  "kernelspec": {
   "display_name": "Python 3",
   "language": "python",
   "name": "python3"
  },
  "language_info": {
   "codemirror_mode": {
    "name": "ipython",
    "version": 3
   },
   "file_extension": ".py",
   "mimetype": "text/x-python",
   "name": "python",
   "nbconvert_exporter": "python",
   "pygments_lexer": "ipython3",
   "version": "3.8.10"
  },
  "orig_nbformat": 4
 },
 "nbformat": 4,
 "nbformat_minor": 2
}
