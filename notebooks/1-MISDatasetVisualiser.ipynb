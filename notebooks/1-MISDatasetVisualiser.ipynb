{
 "cells": [
  {
   "cell_type": "code",
   "execution_count": 2,
   "metadata": {},
   "outputs": [
    {
     "data": {
      "application/vnd.jupyter.widget-view+json": {
       "model_id": "7fca38d09d444c7986770fb338c82cb4",
       "version_major": 2,
       "version_minor": 0
      },
      "text/plain": [
       "Dropdown(description='dataset', options=('select dataset', 'ar-casas-aruba.yaml', 'ar-casas-home1.yaml', 'ar-c…"
      ]
     },
     "metadata": {},
     "output_type": "display_data"
    },
    {
     "name": "stdout",
     "output_type": "stream",
     "text": [
      "...........................continuing...\n"
     ]
    }
   ],
   "source": [
    "import os\n",
    "import ipywidgets\n",
    "import unified_pipeline as up\n",
    "import unified_pipeline.common.jupyter_utils as ju\n",
    "from unified_pipeline.common import load_config\n",
    "from unified_pipeline.common import printc\n",
    "if 'datasets' not in os.listdir('.'):\n",
    "    os.chdir('../')\n",
    "\n",
    "all_datasets=sorted(os.listdir(f'configs/datasets'))\n",
    "all_datasets.insert(0,'select dataset')\n",
    "dataset_dd=ipywidgets.Dropdown(options=all_datasets,description=\"dataset\")\n",
    "display(dataset_dd)\n",
    "ju.wait_for_user(dataset_dd)\n",
    "dataset_file=dataset_dd.value"
   ]
  },
  {
   "cell_type": "code",
   "execution_count": 3,
   "metadata": {},
   "outputs": [
    {
     "name": "stdout",
     "output_type": "stream",
     "text": [
      "['Sleeping' 'Bed_to_Toilet' 'Meal_Preparation' 'Relax' 'Housekeeping'\n",
      " 'Eating' 'Wash_Dishes' 'Leave_Home' 'Enter_Home' 'Work' 'Respirate']\n"
     ]
    }
   ],
   "source": [
    "db_config=load_config(f'configs/datasets/{dataset_file}')  \n",
    "dataset=up.dataset.load(db_config)"
   ]
  },
  {
   "cell_type": "code",
   "execution_count": 10,
   "metadata": {},
   "outputs": [],
   "source": [
    "dataset.summary()"
   ]
  },
  {
   "cell_type": "code",
   "execution_count": 9,
   "metadata": {},
   "outputs": [
    {
     "name": "stdout",
     "output_type": "stream",
     "text": [
      "\u001b[0m\u001b[1m\u001b[91mD\u001b[0m\n",
      "\u001b[0m\u001b[92mD\u001b[0m\n"
     ]
    }
   ],
   "source": [
    "up.common.printc(\"D\",'error_bold')\n",
    "up.common.printc(\"D\",'ok')"
   ]
  }
 ],
 "metadata": {
  "kernelspec": {
   "display_name": "Python 3",
   "language": "python",
   "name": "python3"
  },
  "language_info": {
   "codemirror_mode": {
    "name": "ipython",
    "version": 3
   },
   "file_extension": ".py",
   "mimetype": "text/x-python",
   "name": "python",
   "nbconvert_exporter": "python",
   "pygments_lexer": "ipython3",
   "version": "3.8.10"
  },
  "orig_nbformat": 4
 },
 "nbformat": 4,
 "nbformat_minor": 2
}
